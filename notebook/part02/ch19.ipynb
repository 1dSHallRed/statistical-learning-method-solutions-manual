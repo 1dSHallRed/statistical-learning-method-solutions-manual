{
 "cells": [
  {
   "cell_type": "markdown",
   "metadata": {
    "collapsed": true
   },
   "source": [
    "# 第19章马尔可夫链蒙特卡罗法"
   ]
  },
  {
   "cell_type": "markdown",
   "metadata": {
    "collapsed": true
   },
   "source": [
    "## 习题19.1\n",
    "&emsp;&emsp;用蒙特卡罗积分法求\n",
    "$$\n",
    "\\int_{-\\infty}^{+\\infty} x^2 \\exp \\left( -\\frac{x^2}{2} \\right) dx\n",
    "$$"
   ]
  },
  {
   "cell_type": "markdown",
   "metadata": {},
   "source": [
    "**解答：**  "
   ]
  },
  {
   "cell_type": "markdown",
   "metadata": {},
   "source": [
    "**解答思路：**"
   ]
  },
  {
   "cell_type": "markdown",
   "metadata": {},
   "source": [
    "**解答步骤：**  "
   ]
  },
  {
   "cell_type": "markdown",
   "metadata": {},
   "source": [
    "## 习题19.2\n",
    "&emsp;&emsp;证明如果马尔可夫链是不可约的，且有一个状态是非周期的，则其他所有状态也是非周期的，即这个马尔可夫链是非周期的。"
   ]
  },
  {
   "cell_type": "markdown",
   "metadata": {},
   "source": [
    "**解答：**\n",
    "\n",
    "**解答思路：**  "
   ]
  },
  {
   "cell_type": "markdown",
   "metadata": {},
   "source": [
    "**解答步骤：**   "
   ]
  },
  {
   "cell_type": "markdown",
   "metadata": {},
   "source": [
    "## 习题19.3\n",
    "&emsp;&emsp;验证具有以下转移概率矩阵的马尔可夫链是可约的，但是非周期的。\n",
    "$$\n",
    "P = \\left[ \n",
    "\\begin{array}{c}\n",
    "1/2 & 1/2 & 0 & 0 \\\\\n",
    "1/2 & 0 & 1/2 & 0 \\\\\n",
    "0 & 1/2 & 0 & 0 \\\\\n",
    "0 & 0 & 1/2 & 1 \\\\\n",
    "\\end{array}\n",
    "\\right]\n",
    "$$"
   ]
  },
  {
   "cell_type": "markdown",
   "metadata": {},
   "source": [
    "**解答：**\n",
    "\n",
    "**解答思路：**  "
   ]
  },
  {
   "cell_type": "markdown",
   "metadata": {},
   "source": [
    "**解答步骤：**   "
   ]
  },
  {
   "cell_type": "markdown",
   "metadata": {},
   "source": [
    "## 习题19.4\n",
    "&emsp;&emsp;验证具有以下转移概率矩阵的马尔可夫链是不可约的，但是周期性的。\n",
    "$$\n",
    "P = \\left[ \n",
    "\\begin{array}{c}\n",
    "0 & 1/2 & 0 & 0 \\\\\n",
    "1 & 0 & 1/2 & 0 \\\\\n",
    "0 & 1/2 & 0 & 1 \\\\\n",
    "0 & 0 & 1/2 & 0 \\\\\n",
    "\\end{array}\n",
    "\\right]\n",
    "$$"
   ]
  },
  {
   "cell_type": "markdown",
   "metadata": {},
   "source": [
    "**解答：**\n",
    "\n",
    "**解答思路：**  "
   ]
  },
  {
   "cell_type": "markdown",
   "metadata": {},
   "source": [
    "**解答步骤：**   "
   ]
  },
  {
   "cell_type": "markdown",
   "metadata": {},
   "source": [
    "## 习题19.5\n",
    "&emsp;&emsp;证明可逆马尔可夫链一定是不可约的。"
   ]
  },
  {
   "cell_type": "markdown",
   "metadata": {},
   "source": [
    "**解答：**\n",
    "\n",
    "**解答思路：**  "
   ]
  },
  {
   "cell_type": "markdown",
   "metadata": {},
   "source": [
    "**解答步骤：**   "
   ]
  },
  {
   "cell_type": "markdown",
   "metadata": {},
   "source": [
    "## 习题19.6\n",
    "&emsp;&emsp;从一般的Metropolis-Hastings算法推导出单分量Metropolis-Hastings算法。"
   ]
  },
  {
   "cell_type": "markdown",
   "metadata": {},
   "source": [
    "**解答：**\n",
    "\n",
    "**解答思路：**  "
   ]
  },
  {
   "cell_type": "markdown",
   "metadata": {},
   "source": [
    "**解答步骤：**   "
   ]
  },
  {
   "cell_type": "markdown",
   "metadata": {},
   "source": [
    "## 习题19.7\n",
    "&emsp;&emsp;假设进行伯努利实验，后验概率为$P(\\theta|y)$，其中变量$y \\in \\{0, 1\\}$表示实验可能的结果，变量$\\theta$表示结果为1的概率。再假设先验概率$P(\\theta)$遵循Beta分布$B(\\alpha, \\beta)$，其中$\\alpha=1,\\beta=1$；似然函数$P(y_i|\\theta)$遵循二项分布$\\text{Bin}(n, k, \\theta)$，其中$n=10,k=4$，即实验进行10次，其中结果为1的次数为4。试用Metropolis-Hastings算法求后验概率分布$P(\\theta|y) \\propto P(\\theta)P(y|\\theta)$的均值和方差。（提示：可采用Metropolis选择，即假设建议分布式对称的）"
   ]
  },
  {
   "cell_type": "markdown",
   "metadata": {},
   "source": [
    "**解答：**\n",
    "\n",
    "**解答思路：**  "
   ]
  },
  {
   "cell_type": "markdown",
   "metadata": {},
   "source": [
    "**解答步骤：**   "
   ]
  },
  {
   "cell_type": "markdown",
   "metadata": {},
   "source": [
    "## 习题19.8\n",
    "&emsp;&emsp;设某试验可能有五种结果，其出现的概率分别为\n",
    "$$\n",
    "\\frac{\\theta}{4} + \\frac{1}{8}, \\frac{\\theta}{4}, \\frac{\\eta}{4}, \\frac{\\eta}{4} + \\frac{3}{8}, \\frac{1}{2}(1 - \\theta - \\eta)\n",
    "$$\n",
    "模型含有两个参数$\\theta$和$\\eta$，都介于0和1之间。现有22次试验结果的观测值为\n",
    "$$\n",
    "y = (y_1, y_2, y_3, y_4, y_5) = (14, 1, 1, 1, 5)\n",
    "$$\n",
    "其中，$y_i$表示22次试验中第$i$个结果出现的次数，$i=1,2,\\cdots,5$。试用吉布斯抽样估计参数$\\theta$和$\\eta$的均值和方差。"
   ]
  },
  {
   "cell_type": "markdown",
   "metadata": {},
   "source": [
    "**解答：**\n",
    "\n",
    "**解答思路：**  "
   ]
  },
  {
   "cell_type": "markdown",
   "metadata": {},
   "source": [
    "**解答步骤：**   "
   ]
  }
 ],
 "metadata": {
  "interpreter": {
   "hash": "c50c7698ff25eb1d7dce4c52e3d5cc14b3b23d6a97d4fb70aad8c815eba6f63e"
  },
  "kernelspec": {
   "display_name": "Python 3",
   "language": "python",
   "name": "python3"
  },
  "language_info": {
   "codemirror_mode": {
    "name": "ipython",
    "version": 3
   },
   "file_extension": ".py",
   "mimetype": "text/x-python",
   "name": "python",
   "nbconvert_exporter": "python",
   "pygments_lexer": "ipython3",
   "version": "3.7.11"
  },
  "toc": {
   "base_numbering": 1,
   "nav_menu": {},
   "number_sections": false,
   "sideBar": true,
   "skip_h1_title": false,
   "title_cell": "Table of Contents",
   "title_sidebar": "Contents",
   "toc_cell": false,
   "toc_position": {
    "height": "calc(100% - 180px)",
    "left": "10px",
    "top": "150px",
    "width": "273.188px"
   },
   "toc_section_display": true,
   "toc_window_display": false
  }
 },
 "nbformat": 4,
 "nbformat_minor": 1
}
